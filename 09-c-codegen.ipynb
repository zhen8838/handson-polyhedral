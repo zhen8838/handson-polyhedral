{
 "cells": [
  {
   "cell_type": "markdown",
   "metadata": {},
   "source": [
    "# 前言\n",
    "\n",
    "将`isl`的`ir`重新生成到`c`, 算是理论联系实际中非常重要的一环, 但是目前大部分教程并没有这块内容, 导致多面体编译的上手难度非常陡峭. 因此我在学习`ppcg`的代码过程中, 决定将学会的内容进行整理, 补齐此前多面体编译教程中缺失的部分. \n",
    "\n",
    "为了使读者可以延续着[Polyhedral Tutorials](https://zhuanlan.zhihu.com/p/553703704)的内容继续学习, 因此继续使用`python`接口来演示. 因此需要使用到`pet/isl`中一些未导出的类和函数, 所以本教程需要配合我修改过的[pet](https://github.com/zhen8838/pet)使用. \n",
    "\n",
    "所有教程源码位于[这里](https://github.com/zhen8838/isl_learn)."
   ]
  },
  {
   "cell_type": "markdown",
   "metadata": {},
   "source": [
    "## 关于isl接口导出\n",
    "\n",
    "`isl`导出函数比较简单, 分为以下几步:\n",
    "1. 首先需要在类/函数前加上`__isl_export`\n",
    "2. 执行`make isl.py`即可更新python接口. \n",
    "   1. `make`的过程中使用了isl提供的`extract_interface`程序\n",
    "      1. 它可以解析`isl`源码生成出对应的`c++/python`接口(注意部分类型导出到`cpp`时会需要特殊处理)\n",
    "\n",
    "⚠️ `isl`在导出接口时对参数的使用做了规范化, 虽然isl部分的接口导出都是自动的, 但是`pet`的接口导出时就需要自己注意. 其中`__isl_take`表示参数指向的对象被该函数接管并且可能不再使用, 因此通常需要copy. 而`__isl_keep`则表示被当前对象暂时使用, 退出后可能会作为其他函数参数."
   ]
  },
  {
   "cell_type": "markdown",
   "metadata": {},
   "source": [
    "# C CodeGen\n",
    "\n",
    "首先我们使用`pet`解析一个代码获取对应的`schedule tree`:"
   ]
  },
  {
   "cell_type": "code",
   "execution_count": 32,
   "metadata": {},
   "outputs": [],
   "source": [
    "import pet\n",
    "import isl\n",
    "\n",
    "def parse_code(source: str, func_name: str):\n",
    "  with open(\"/tmp/parse_code.c\", \"w\") as f:\n",
    "    f.write(source)\n",
    "  scop = pet.scop.extract_from_C_source(\"/tmp/parse_code.c\", func_name)\n",
    "  context = scop.get_context()\n",
    "  schedule = scop.get_schedule()\n",
    "  reads = scop.get_may_reads()\n",
    "  writes = scop.get_may_writes()\n",
    "  return (scop, context, schedule, reads, writes)\n",
    "\n",
    "\n",
    "scop, context, schedule, reads, writes = parse_code(\"\"\"\n",
    "void foo()\n",
    "{\n",
    "\tint i;\n",
    "\tint a;\n",
    "\n",
    "#pragma scop\n",
    "\tfor (i = 0; i < 10; ++i)\n",
    "\t\ta = 5;\n",
    "#pragma endscop\n",
    "}\n",
    "\"\"\", \"foo\")\n",
    "\n",
    "class CSource():\n",
    "  def __init__(self, path: str) -> None:\n",
    "    with open(path, 'r') as f:\n",
    "      self.context = f.read()\n",
    "  def _repr_html_(self) -> str:\n",
    "    return \"<pre class='code'><code class=\\\"cpp hljs\\\">\" + self.context + \"</code></pre>\"\n"
   ]
  },
  {
   "cell_type": "markdown",
   "metadata": {},
   "source": [
    "## 默认的CodeGen输出\n",
    "\n",
    "整体流程是遍历`schedule tree`build为`ast tree`, 然后再遍历`ast tree`打印为`c`代码. 其中通过各种`callback`函数处理需要添加的内容. 在不做任何修改的情况下, 打印输出为如下:"
   ]
  },
  {
   "cell_type": "code",
   "execution_count": 33,
   "metadata": {},
   "outputs": [
    {
     "data": {
      "text/html": [
       "<pre class='code'><code class=\"cpp hljs\">{\n",
       "  { op: call, args: [ { id: S_0 } ] };\n",
       "  for (int c0 = { val: 0 }; { op: le, args: [ { id: c0 }, { val: 9 } ] }; c0 += { val: 1 }) {\n",
       "    { op: call, args: [ { id: S_1 }, { id: c0 } ] };\n",
       "    { op: call, args: [ { id: S_2 }, { id: c0 } ] };\n",
       "  }\n",
       "  { op: call, args: [ { id: S_3 } ] };\n",
       "  { op: call, args: [ { id: S_4 } ] };\n",
       "}\n",
       "</code></pre>"
      ],
      "text/plain": [
       "<__main__.CSource at 0x106071600>"
      ]
     },
     "execution_count": 33,
     "metadata": {},
     "output_type": "execute_result"
    }
   ],
   "source": [
    "\n",
    "printer = isl.printer.to_file_path('/tmp/1.c')\n",
    "builder = isl.ast_build()\n",
    "tree: isl.ast_node = builder.node_from(schedule)\n",
    "options = isl.ast_print_options.alloc()\n",
    "tree.print(printer, options)\n",
    "printer.flush()\n",
    "\n",
    "CSource('/tmp/1.c')"
   ]
  },
  {
   "cell_type": "markdown",
   "metadata": {},
   "source": [
    "## 使用Ast Print CallBack\n",
    "\n",
    "其中`ast_print_options`支持两种`callback`函数, 用于在遍历`ast`的过程中, 自定义处理需要的信息:\n",
    "```python\n",
    "options.set_print_for(callback)\n",
    "options.set_print_user(callback)\n",
    "```\n",
    "\n",
    "比如我们可以在`print_for`的时候添加基于`openmp`的并行:"
   ]
  },
  {
   "cell_type": "code",
   "execution_count": 34,
   "metadata": {},
   "outputs": [
    {
     "data": {
      "text/html": [
       "<pre class='code'><code class=\"cpp hljs\">{\n",
       "  { op: call, args: [ { id: S_0 } ] };\n",
       "  #pragma omp parallel for\n",
       "  for (int c0 = { val: 0 }; { op: le, args: [ { id: c0 }, { val: 9 } ] }; c0 += { val: 1 }) {\n",
       "    { op: call, args: [ { id: S_1 }, { id: c0 } ] };\n",
       "    { op: call, args: [ { id: S_2 }, { id: c0 } ] };\n",
       "  }\n",
       "  { op: call, args: [ { id: S_3 } ] };\n",
       "  { op: call, args: [ { id: S_4 } ] };\n",
       "}\n",
       "</code></pre>"
      ],
      "text/plain": [
       "<__main__.CSource at 0x10607c340>"
      ]
     },
     "execution_count": 34,
     "metadata": {},
     "output_type": "execute_result"
    }
   ],
   "source": [
    "def print_for_callback(p: isl.printer, opt: isl.ast_print_options, node: isl.ast_node_for):\n",
    "  # when loop can parallel execute:\n",
    "  p.start_line()\n",
    "  p.print_str(\"#pragma omp parallel for\")\n",
    "  p.end_line()\n",
    "  node.print(p, opt)\n",
    "  return p\n",
    "\n",
    "\n",
    "printer = isl.printer.to_file_path('/tmp/2.c')\n",
    "options = isl.ast_print_options.alloc()\n",
    "options = options.set_print_for(print_for_callback)\n",
    "tree.print(printer, options)\n",
    "printer.flush()\n",
    "CSource('/tmp/2.c')\n"
   ]
  },
  {
   "cell_type": "markdown",
   "metadata": {},
   "source": [
    "为了让打印出来的代码符合`c`的形式, 可以自定义`print_user`:"
   ]
  },
  {
   "cell_type": "code",
   "execution_count": 35,
   "metadata": {},
   "outputs": [
    {
     "data": {
      "text/html": [
       "<pre class='code'><code class=\"cpp hljs\">{\n",
       "  S_0();\n",
       "  for (int c0 = { val: 0 }; { op: le, args: [ { id: c0 }, { val: 9 } ] }; c0 += { val: 1 }) {\n",
       "    S_1(c0);\n",
       "    S_2(c0);\n",
       "  }\n",
       "  S_3();\n",
       "  S_4();\n",
       "}\n",
       "</code></pre>"
      ],
      "text/plain": [
       "<__main__.CSource at 0x1057dfeb0>"
      ]
     },
     "execution_count": 35,
     "metadata": {},
     "output_type": "execute_result"
    }
   ],
   "source": [
    "def print_user_callback(p: isl.printer, opt: isl.ast_print_options, node: isl.ast_node_user):\n",
    "  p = p.start_line()\n",
    "  p = p.print_str(isl.ast_expr.to_C_str(node.expr()))\n",
    "  p = p.print_str(\";\")\n",
    "  p = p.end_line()\n",
    "  return p\n",
    "\n",
    "printer = isl.printer.to_file_path('/tmp/3.c')\n",
    "options = isl.ast_print_options.alloc()\n",
    "# options = options.set_print_for(print_for_callback)\n",
    "options = options.set_print_user(print_user_callback)\n",
    "tree.print(printer, options)\n",
    "printer.flush()\n",
    "CSource('/tmp/3.c')"
   ]
  },
  {
   "cell_type": "markdown",
   "metadata": {},
   "source": [
    "注意到这里输出的for循环的结果还是不符合c的格式, 我们可以修改`print_for_callback`函数, 不过`isl`中也提供了切换输出格式的功能, 即可以设定`isl printer`的`format`:"
   ]
  },
  {
   "cell_type": "code",
   "execution_count": 36,
   "metadata": {},
   "outputs": [
    {
     "data": {
      "text/html": [
       "<pre class='code'><code class=\"cpp hljs\">{\n",
       "  S_0();\n",
       "  for (int c0 = 0; c0 <= 9; c0 += 1) {\n",
       "    S_1(c0);\n",
       "    S_2(c0);\n",
       "  }\n",
       "  S_3();\n",
       "  S_4();\n",
       "}\n",
       "</code></pre>"
      ],
      "text/plain": [
       "<__main__.CSource at 0x106070940>"
      ]
     },
     "execution_count": 36,
     "metadata": {},
     "output_type": "execute_result"
    }
   ],
   "source": [
    "\n",
    "def print_user_callback(p: isl.printer, opt: isl.ast_print_options, node: isl.ast_node_user):\n",
    "  p = p.start_line()\n",
    "  p = p.print_str(isl.ast_expr.to_C_str(node.expr()))\n",
    "  p = p.print_str(\";\")\n",
    "  p = p.end_line()\n",
    "  return p\n",
    "\n",
    "printer = isl.printer.to_file_path('/tmp/4.c')\n",
    "printer.set_output_format(isl.format.C)\n",
    "options = isl.ast_print_options.alloc()\n",
    "# options = options.set_print_for(print_for_callback)\n",
    "options = options.set_print_user(print_user_callback)\n",
    "tree.print(printer, options)\n",
    "printer.flush()\n",
    "CSource('/tmp/4.c')"
   ]
  },
  {
   "cell_type": "markdown",
   "metadata": {},
   "source": [
    "## CodeGen With Stmt\n",
    "\n",
    "注意到上面输出的代码中每个`statement`都是用顺序编号的`id`来代替表示的, 这样也不是最终可用的格式. 我们需要将这些`id`和源代码中的实际的语句对应起来才行.\n",
    "\n",
    "1. `ast_build`提供了`at_each_domain`的`callback`, 获取`domain`中使用到的`id`, 并查找到`pet`解析的`scop`中所对应真实的`stmt`, 并设定`annotation`记录映射关系.\n",
    "2. 在`print_user`中通过`isl_ast_node_get_annotation`获取`annotation`, 以及对应的映射关系, 而后直接通过`printer`输出真实的`stmt`."
   ]
  },
  {
   "cell_type": "code",
   "execution_count": 37,
   "metadata": {},
   "outputs": [
    {
     "data": {
      "text/html": [
       "<pre class='code'><code class=\"cpp hljs\">{\n",
       "  i = 0;\n",
       "  for (int c0 = 0; c0 <= 9; c0 += 1) {\n",
       "    a = 5;\n",
       "    i = (c0 + 1);\n",
       "  }\n",
       "}\n",
       "</code></pre>"
      ],
      "text/plain": [
       "<__main__.CSource at 0x10605eaa0>"
      ]
     },
     "execution_count": 37,
     "metadata": {},
     "output_type": "execute_result"
    }
   ],
   "source": [
    "def find_stmt_from_scop(id: isl.id) -> pet.stmt:\n",
    "  \"\"\" 在pet解析的scop中找到对应的stmt.  \"\"\"\n",
    "  n_stmt = scop.get_n_stmt()\n",
    "  for i in range(n_stmt):\n",
    "    stmt = scop.get_stmt(i)\n",
    "    domain = stmt.get_domain()\n",
    "    id_i = domain.get_tuple_id()\n",
    "    if (id.ptr == id_i.ptr):\n",
    "      return stmt\n",
    " \n",
    "id_dict = dict()\n",
    "\n",
    "def at_each_domain(node: isl.ast_node_user, build: isl.ast_build):\n",
    "  expr: isl.ast_expr_op = node.get_expr()\n",
    "  arg: isl.ast_expr_id = expr.get_arg(0)\n",
    "  id: isl.id = arg.get_id()\n",
    "  stmt: pet.stmt = find_stmt_from_scop(id)\n",
    "  map = build.get_schedule().as_map()\n",
    "  map = map.reverse()\n",
    "  iterator_map = map.as_pw_multi_aff()\n",
    "\n",
    "  def pullback_index(index: isl.multi_pw_aff, id: isl.id):\n",
    "    return index.pullback(iterator_map)\n",
    "\n",
    "  ref2expr = stmt.build_ast_exprs(build, pullback_index, None)\n",
    "  id_dict[id.ptr] = (stmt, ref2expr)\n",
    "\n",
    "  return node.set_annotation(id)\n",
    "\n",
    "\n",
    "def print_user(p: isl.printer, opt: isl.ast_print_options, node: isl.ast_node_user):\n",
    "  # when loop can parallel execute:\n",
    "  id = node.annotation()\n",
    "  (stmt, ref2expr) = id_dict[id.ptr]\n",
    "  stmt: pet.stmt\n",
    "  p = stmt.print_body(p, ref2expr)\n",
    "  return p\n",
    "\n",
    "\n",
    "printer = isl.printer.to_file_path('/tmp/5.c')\n",
    "printer.set_output_format(isl.format.C)\n",
    "builder = isl.ast_build()\n",
    "builder = builder.set_at_each_domain(at_each_domain)\n",
    "tree: isl.ast_node = builder.node_from(schedule)\n",
    "options = isl.ast_print_options.alloc()\n",
    "options = options.set_print_user(print_user)\n",
    "tree.print(printer, options)\n",
    "printer.flush()\n",
    "\n",
    "CSource('/tmp/5.c')\n"
   ]
  },
  {
   "cell_type": "markdown",
   "metadata": {},
   "source": []
  }
 ],
 "metadata": {
  "kernelspec": {
   "display_name": "ci",
   "language": "python",
   "name": "python3"
  },
  "language_info": {
   "codemirror_mode": {
    "name": "ipython",
    "version": 3
   },
   "file_extension": ".py",
   "mimetype": "text/x-python",
   "name": "python",
   "nbconvert_exporter": "python",
   "pygments_lexer": "ipython3",
   "version": "3.10.16"
  },
  "orig_nbformat": 4
 },
 "nbformat": 4,
 "nbformat_minor": 2
}
