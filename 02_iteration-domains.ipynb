{
 "cells": [
  {
   "cell_type": "markdown",
   "metadata": {},
   "source": [
    "# Polyhedral Representation\n",
    "\n",
    "将一个命令式语言的statement作为identifer, 加上loop的约束, 将其转化为Union Set \n",
    "\n",
    "| Imperative Program | | Iteration Domain |\n",
    "|-|-|-|\n",
    "| <pre><code class=\"c language-c\">const int N = 100; <br>double X[N], Y[N], Z[2*N]; <br>  for (int i = 0; i &lt;= 2*N; ++i) <br>S:  Z[i] = 0.; <br>    for (int i = 0; i &lt;= N; ++i) <br>      for (int j = 0; j &lt;= N; ++j) <br>T:      Z[i + j] += A[i] * B[j]; <br> </code></pre> | $ \\to $ | $( \\{ T[i,j] \\mid 0 < i \\le j < 10; S[i,0] \\mid 0 < i \\le 20 \\})$  |\n"
   ]
  },
  {
   "cell_type": "markdown",
   "metadata": {},
   "source": [
    "## Statement instances\n",
    "\n",
    "考虑以下计算多项式乘积的代码片段\n",
    "每个多项式都由其系数数组表示\n",
    "\n",
    "```c\n",
    "const int N = 100;\n",
    "double X[N], Y[N], Z[2*N];\n",
    "\n",
    "for (int i = 0; i <= 2*N; ++i)\n",
    "S:  Z[i] = 0.;\n",
    "for (int i = 0; i <= N; ++i)\n",
    "    for (int j = 0; j <= N; ++j)\n",
    "T:      Z[i + j] += A[i] * B[j];\n",
    "```\n",
    "\n",
    "为其中一些statement添加label作为identifier.\n",
    "\n",
    "Statement `S` 初始化数组`Z`的元素,statement `T`计算它们.\n",
    "Statement `S` 被包含在循环中,他将会按以下顺序被执行 $((2\\mathtt{N} + 1))$ 次:\n",
    "\n",
    "* `Z[0] = 0.; /* i = 0 */`\n",
    "* `Z[1] = 0.; /* i = 1 */`\n",
    "* ...\n",
    "* `Z[2*N] = 0. /* i = 2*N */;`\n",
    "\n",
    "把循环中每个单独执行的statement称为 **statement instances**\n",
    "这样每个instance可以通过语句label和封闭循环迭代器的值来标识, 例如：\n",
    "\n",
    "* $(\\mathtt{S}(0))$\n",
    "* $(\\mathtt{S}(1))$\n",
    "* ...\n",
    "* $(\\mathtt{S}(2 \\mathtt{N}))$\n",
    "\n",
    "如果一个statement包含在多个循环中，其instance由所有迭代器的值按循环的顺序来标识, 比如statement `T` 会包含以下这些例子:\n",
    "\n",
    "* $(\\mathtt{T}(0,0))$ for `Z[0] += A[0] * B[0] /* i = 0, j = 0 */`,\n",
    "* $(\\mathtt{T}(0,1))$ for `Z[1] += A[0] * B[1] /* i = 0, j = 1 */`,\n",
    "* ...\n",
    "* $(\\mathtt{T}(\\mathtt{N},\\mathtt{N}))$ for `Z[2*N] += A[N] * B[N] /* i = N, j = N */`."
   ]
  },
  {
   "cell_type": "markdown",
   "metadata": {},
   "source": [
    "## Iteration domain\n",
    "\n",
    "一个statement的所有instance的集合被称为 *(iteration) domain*.\n",
    "<!-- The set of all instances of a statement is referred to as *(iteration) domain* of a statement. -->\n",
    "\n",
    "<!-- Iteration domains can be expressed using the set-builder notation. -->\n",
    "迭代域可以使用 set-builder 表示法来表示:\n",
    "\n",
    "比如, $( \\mathcal{D}_\\mathtt{S} = \\{ \\mathtt{S}[i] : 0 \\leq i \\leq \\mathtt{N} \\}. )$\n",
    "表达式 $( 0 \\leq i \\leq \\mathtt{N} )$ 被循环起始(`i=0`)到结束(`i<=N`)所约束.\n",
    "<!-- The loop iterates for $(i)$ ranging from 0 to $(\\mathtt{N})$ inclusive. -->\n",
    "\n",
    "<!-- The set we defined is *named*, i.e. the statement name $( \\mathtt{S} )$ is mentioned before the list of loop iterator names. -->\n",
    "\n",
    "<!-- Note that $( \\mathtt{N} )$ here is treated as a symbolic constant. -->\n",
    "注意, 这里 $( \\mathtt{N} )$ 被看作是符号常量. 在多面体模型中,这些符号常量通常被称为 *(structure) parameters*:\n",
    "<!-- In the context of the polyhedal model, such symbolic constants are referred to as *(structure) parameters*.\n",
    "Parameters are explicitly mentioned in the set description, -->\n",
    "$( \\mathcal{D}\\_\\mathtt{S} = [N] \\rightarrow \\{ \\mathtt{S}[i] : 0 \\leq i \\leq N \\} )$,\n",
    "本质上是将其转换为从参数值到domain set的具体instance的映射。\n",
    "这样的参数集可以在 *isl* 中如下定义:\n",
    "<!-- essentially turning it into a map from the parameter value to a concrete instance of a domain set.\n",
    "Such parametric sets can be defined in *isl* as follows. -->\n"
   ]
  },
  {
   "cell_type": "code",
   "execution_count": 60,
   "metadata": {},
   "outputs": [
    {
     "name": "stdout",
     "output_type": "stream",
     "text": [
      "[N] -> { S[i] : 0 <= i <= N }\n"
     ]
    }
   ],
   "source": [
    "import isl\n",
    "D_S = isl.set(\"[N] -> {S[i] : 0 <= i <= N}\")\n",
    "print(D_S)"
   ]
  },
  {
   "cell_type": "markdown",
   "metadata": {},
   "source": [
    " \n",
    "<!-- Similarly, we can define the iteration domain of the statement `T`, -->\n",
    "同样, 我们可以为statement `T`定义iteration domain,\n",
    "$( \\mathcal{D}_\\mathcal{T} = [N] \\rightarrow \\{ \\mathtt{T}(i,j) : 0 \\leq i,j \\leq N \\} )$.\n",
    "\n",
    "<!-- This domain is defined as a set of two-dimensional vectors.\n",
    "Each component of a vector corresponds to an enclosing loop, in nesting order. -->\n",
    "这个domain被定义为一组二维向量, 向量的每个分量都以嵌套顺序对应于一个封闭循环。\n",
    "\n",
    "### Question\n",
    "\n",
    "<!-- Define the variable `D_T` so that it contains the iteration domain of `T` using *isl* notation, then print it. -->\n",
    "使用 *isl* 表示定义变量 `D_T` 使其包含 `T` 的迭代域，然后打印它。"
   ]
  },
  {
   "cell_type": "code",
   "execution_count": 61,
   "metadata": {},
   "outputs": [
    {
     "name": "stdout",
     "output_type": "stream",
     "text": [
      "[N] -> { T[i, j] : 0 <= i <= N and 0 <= j <= N }\n"
     ]
    }
   ],
   "source": [
    "D_T = isl.set(\"[N] -> { T[i,j] : 0 <= i, j <= N }\")\n",
    "print(D_T)"
   ]
  },
  {
   "cell_type": "markdown",
   "metadata": {},
   "source": [
    "\n",
    "<!-- As you may see, *isl* output uses conjunction (logical *and*) to combine inequalities around different iterators.\n",
    "This can be handy if the loop bounds differ.  Use `and` in *isl* syntax to express conjunction. -->\n",
    "如上所示，*isl* 输出使用连词(logical *and*)来组合不同迭代器周围的不等式,\n",
    "这可以很方便循环边界不同的情况.\n",
    "\n",
    "### Question\n",
    "使用 `and` operator 分离 `i` 和 `j`的bounds来重新定义`D_T` ."
   ]
  },
  {
   "cell_type": "code",
   "execution_count": 62,
   "metadata": {},
   "outputs": [
    {
     "name": "stdout",
     "output_type": "stream",
     "text": [
      "[N] -> { T[i, j] : 0 <= i <= N and 0 <= j <= N }\n"
     ]
    }
   ],
   "source": [
    "D_T = isl.set(\" [N] -> { T[i, j] : 0 <= i <= N and 0 <= j <= N }\")\n",
    "print(D_T)"
   ]
  },
  {
   "cell_type": "markdown",
   "metadata": {},
   "source": [
    "<!-- \n",
    "Note that the output does not necessarily reproduce the textual form of the input.\n",
    "Rather, it represents the same set after simplification.\n",
    "In particular, redundant inequalities are eliminated and components that appear in first positions are expressed using simpler equations.\n",
    "Here is an example of the simplification result. -->\n",
    "\n",
    "注意，print的输出不一定再现输入的文本形式\n",
    "相反，它表示简化后的同一集合, 比如消除了多余的不等式，并使用更简单的方程来表示出现在第一位的分量。\n",
    "比如下面这个例子:"
   ]
  },
  {
   "cell_type": "code",
   "execution_count": 63,
   "metadata": {},
   "outputs": [
    {
     "name": "stdout",
     "output_type": "stream",
     "text": [
      "{ [i, j] : i >= 0 and j > 0 and j >= -i }\n"
     ]
    }
   ],
   "source": [
    "print(isl.set(\"{[i,j]: i+j >= 0 and i >= 0 and j > 0 and j >= 1}\"))"
   ]
  },
  {
   "cell_type": "markdown",
   "metadata": {},
   "source": [
    "## Handling Non-Unit Strides\n",
    "\n",
    "<!-- Consider now the following code snippet that negates every odd element in the array. -->\n",
    "考虑以下代码片段，它取数组中的每个奇数元素的负数。\n",
    "```c\n",
    "const int N;\n",
    "double A[2*N];\n",
    "\n",
    "for (int i = 1; i < 2*N; i += 2)\n",
    "R:  A[i] = -A[i];\n",
    "```\n",
    "\n",
    "如果数组`A`存储的是复数的实部和虚部，那么上面的代码操作计算复共轭.\n",
    "\n",
    "`R` 的迭代域现在应该限制为 `i` 的奇数值, 这可以使用模运算符来实现: \n",
    "<!-- If `A` stores real and imaginary parts of complex numbers, one after other, this operation computes a complex conjugate.\n",
    "\n",
    "The iteration domain of `R` should now be restricted to odd values of `i`.\n",
    "This can be achieved using a modulo operator -->\n",
    "$( \\mathcal{D}_\\mathtt{R}: [N] \\rightarrow \\{ [i] : 0 \\leq i < N \\wedge i\\mod 2 = 1 \\} $)\n",
    "<!-- which can be translated directly into *isl* syntax. -->"
   ]
  },
  {
   "cell_type": "code",
   "execution_count": 64,
   "metadata": {},
   "outputs": [
    {
     "name": "stdout",
     "output_type": "stream",
     "text": [
      "[N] -> { R[i] : (1 + i) mod 2 = 0 and 0 <= i < N }\n"
     ]
    }
   ],
   "source": [
    "D_R = isl.set(\"[N] -> {R[i]: (i mod 2) = 1 and 0 <= i < N}\")\n",
    "print(D_R)"
   ]
  },
  {
   "cell_type": "markdown",
   "metadata": {},
   "source": [
    "\n",
    "<!-- As you may see, *isl* transforms the modulo operation into division with floor rounding.\n",
    "This transformation is a combination of two properties of the modulo operation -->\n",
    "*isl* 将模运算转换为带底舍入的除法, 这种转换是模运算的两个属性的组合\n",
    "\n",
    "$( a \\mod b = c \\Leftrightarrow (a + c) \\mod b = 0 )$,\n",
    "\n",
    "$( a \\mod b \\equiv a - b \\lfloor a/b \\rfloor )$.\n",
    "\n"
   ]
  },
  {
   "cell_type": "markdown",
   "metadata": {},
   "source": [
    "### Question\n",
    "<!-- Define the set representing the iteration domain of `Q` in the following code, then print it -->\n",
    "在下面的代码中定义代表`Q`的迭代域的集合，然后打印出来\n",
    "```c\n",
    "const int N;\n",
    "double A[2*N];\n",
    "\n",
    "for (int i = 1; i < 2*N; i += 2)\n",
    "Q:  A[i] = -A[i];\n",
    "```\n"
   ]
  },
  {
   "cell_type": "code",
   "execution_count": 65,
   "metadata": {},
   "outputs": [
    {
     "name": "stdout",
     "output_type": "stream",
     "text": [
      "[N] -> { Q[i] : (1 + i) mod 2 = 0 and 0 <= i < N }\n"
     ]
    }
   ],
   "source": [
    "D_Q = isl.set(\"[N] -> {Q[i]: (i mod 2) = 1 and 0 <= i < N}\")\n",
    "print(D_Q)"
   ]
  },
  {
   "cell_type": "markdown",
   "metadata": {},
   "source": [
    "## Handling Conditions\n",
    "\n",
    "<!-- Conditional constructs inside the loop also limit the iteration domain of the statements they enclose.\n",
    "The complex conjugate computation can also be re-written using a branch inside the unit-stride loop. -->\n",
    "循环内的条件构造也限制了它们所包含的语句的迭代域,\n",
    "复共轭计算也可以使用单位步长循环内的分支语句来重写。\n",
    "```c\n",
    "const int N;\n",
    "double A[2*N];\n",
    "\n",
    "for (int i = 1; i < 2*N; ++i)\n",
    "    if (i % 2 == 1)\n",
    "P:    A[i] = -A[i];\n",
    "```\n",
    "<!-- The definition of the iteration domain should also include the constraint imposed by the branches surrounding the statement. -->\n",
    "迭代域的定义还应该包括语句周围的分支所施加的约束。\n",
    "\n",
    "### Question\n",
    "<!-- Define the set representing the iteration domain of `P` and print it. -->\n",
    "定义代表`P`的迭代域的集合并打印它。\n",
    "\n"
   ]
  },
  {
   "cell_type": "code",
   "execution_count": 66,
   "metadata": {},
   "outputs": [
    {
     "name": "stdout",
     "output_type": "stream",
     "text": [
      "[N] -> { P[i] : (1 + i) mod 2 = 0 and 0 <= i < N }\n"
     ]
    }
   ],
   "source": [
    "D_P = isl.set(\"[N] -> {P[i]: (i mod 2) = 1 and 0 <= i < N}\")\n",
    "print(D_P)"
   ]
  },
  {
   "cell_type": "markdown",
   "metadata": {},
   "source": [
    "\n",
    "<!-- Even though the set of statement instances are identical for `P` and `R`, these domains would be considered different *because of different statement names*. -->\n",
    "即使 `P` 和 `R` 的语句实例集是相同的，这些域也会被认为是不同的因为是不同的*statement name*。\n",
    "\n",
    "### Question\n",
    "如何修改`D_P`, 让他等价于`D_R`?\n",
    "<!-- What do you need to change in the definition of `D_P` to make it equal to `D_R`? \n",
    "Change it and check using `D_P.is_equal(D_R)`. -->\n"
   ]
  },
  {
   "cell_type": "code",
   "execution_count": 67,
   "metadata": {},
   "outputs": [
    {
     "name": "stdout",
     "output_type": "stream",
     "text": [
      "True\n"
     ]
    }
   ],
   "source": [
    "D_P = isl.set(\"[N] -> {R[i]: i mod 2 = 1 and 0 <= i < N}\")\n",
    "print(D_P.is_equal(D_R))"
   ]
  },
  {
   "cell_type": "markdown",
   "metadata": {},
   "source": [
    "## Iteration Domains as Presburger Sets\n",
    "\n",
    "<!-- Because *isl* operates on Presburger Sets, it can encode any iteration domain that can be expressed using Presburger formulas.\n",
    "This typically involves the statements surrounded by loops and branches with the so called *static control flow*.\n",
    "That is, loop bounds and branch conditions are Presburger formulas of outer loop bounds and parameters.\n",
    "The values of parameters are unknown but must be constant throughout the execution.\n",
    "As a corollary, the control flow cannot depend on *values* being computed.\n",
    "Hence the program parts amenable to the polyhedral modeling are referred to as *static control parts* or *SCoPs*. -->\n",
    "\n",
    "由于*isl*在Presburger Sets上运行，因此它可以编码任何可以使用Presburger公式表示的迭代域,\n",
    "这通常涉及由具有所谓的*static control flow*的循环和分支包围的语句。\n",
    "\n",
    "也就是说，loop bounds和分支条件是外部边界和参数的Presburger公式,\n",
    "其中参数的值未知，但在整个执行过程中必须保持不变。\n",
    "\n",
    "作为推论，控制流不能依赖于被计算的*value*, \n",
    "因此，适合多面体建模的程序部件被称为*static control parts*或*SCoPs*。\n",
    "\n",
    "### Question\n",
    "\n",
    "<!-- Define the iteration domain of the only statement, enclosed in two loops and a branch with a disjunctive constraint.\n",
    "\n",
    "Hint: use the operator `or` and parentheses to ensure the precedence if necessary. -->\n",
    "定义包含在两个循环和一个具有析取约束的分支中的statement的迭代域。\n",
    "\n",
    "Hint: 如果有必要，请使用运算符`or`和括号来确保优先级\n",
    "```c\n",
    "for (int i = 0; i < 10; ++i)\n",
    "  for (int j = 0; j < 10; ++j)\n",
    "    if (i < j - 1 || i > j + 1)\n",
    "      Z[i][j] = 0.;\n",
    "```"
   ]
  },
  {
   "cell_type": "code",
   "execution_count": 68,
   "metadata": {},
   "outputs": [
    {
     "name": "stdout",
     "output_type": "stream",
     "text": [
      "{ Z[i, j] : (i >= 0 and 2 + i <= j <= 9) or (i <= 9 and 0 <= j <= -2 + i) }\n"
     ]
    }
   ],
   "source": [
    "D_Z = isl.set(\" { Z[i,j] : 0 <= i,j < 10 and (i < j - 1 or i > j + 1) } \")\n",
    "print(D_Z)"
   ]
  },
  {
   "cell_type": "markdown",
   "metadata": {},
   "source": [
    "### \n",
    "<!-- It is also possible to express certain common mathematical operations using the Presburger formulas -->\n",
    "也可以使用Presburger公式表达某些常见的数学运算:\n",
    "\n",
    "* `i >= max(a,b)` $( \\Leftrightarrow i \\geq a \\wedge i \\geq b )$ (lower bound only)\n",
    "* `i <= min(a,b)` $( \\Leftrightarrow i \\leq a \\wedge i \\leq b )$ (upper bound only)\n",
    "* `a = ceil(b/c)` $( \\Leftrightarrow a = \\lfloor (b - 1)/c \\rfloor + 1 )$\n",
    "\n"
   ]
  },
  {
   "cell_type": "markdown",
   "metadata": {},
   "source": [
    "## Putting Domains Together\n",
    "<!-- In summary, an iteration domain of a statement is a set of multidimensional vectors constrained by the affine expressions that appear in loop bounds and branch conditions surrounding the statement.\n",
    "\n",
    "Iteration domains of multiple statements live in different *spaces* due to different statement names, even if they are enclosed by the same loops.\n",
    "They can be managed together by putting them into a union set.  For example, the combined domain of -->\n",
    "\n",
    "总之，statement的迭代域是一组受仿射表达式约束的多维向量，仿射表达式出现在statement周围的循环边界和分支条件下。\n",
    "\n",
    "由于statement名称不同，多个语句的迭代域存在于不同的*Spaces*中，即使它们被相同的循环包围,\n",
    "通过将它们放入*Union set*中可以统一操作, 比如组合domain:\n",
    "```c\n",
    "for (int i = 0; i < 10; ++i)\n",
    "  for (int j = 0; j < 10; ++j) {\n",
    "    if (i < j - 1)\n",
    "S1:   Z[i][j] = 0.;\n",
    "    if (i > j + 1)\n",
    "S2:   Z[i][j] = 0.;\n",
    "  }\n",
    "```\n",
    "<!-- is defined as -->\n",
    "被定义为:\n",
    "$( \\mathcal{D} = \n",
    "    \\{\\mathtt{S1}[i,j]: 0 \\leq i,j < 10 \\wedge i < j - 1 \\} \\cup \n",
    "    \\{\\mathtt{S2}[i,j]: 0 \\leq i,j < 10 \\wedge i > j + 1 \\},\n",
    "$)\n",
    "<!-- which translates to *isl* notation as -->\n",
    "*isl*表示如下:\n"
   ]
  },
  {
   "cell_type": "code",
   "execution_count": 69,
   "metadata": {},
   "outputs": [
    {
     "name": "stdout",
     "output_type": "stream",
     "text": [
      "{ S2[i, j] : 0 <= i <= 10 and 0 <= j <= 10 and j <= -2 + i; S1[i, j] : 0 <= i <= 10 and j >= 2 + i and 0 <= j <= 10 }\n"
     ]
    }
   ],
   "source": [
    "D = isl.union_set(\"{S1[i,j]: 0 <= i,j <= 10 and i < j - 1; S2[i,j]: 0 <= i,j <= 10 and i > j + 1}\")\n",
    "print(D)"
   ]
  },
  {
   "cell_type": "markdown",
   "metadata": {},
   "source": [
    "## Plotting Iteration Domains\n",
    "可以绘制1D/2D的非参数迭代域集合:\n",
    "<!-- Polyhedral playground supports 1D and 2D plots of non-parametric sets. -->\n",
    "<!-- If the iteration domain has these properties, you can plot it immediately using -->\n"
   ]
  },
  {
   "cell_type": "code",
   "execution_count": 70,
   "metadata": {},
   "outputs": [
    {
     "data": {
      "image/png": "[encoded data removed]",
      "text/plain": [
       "<Figure size 640x480 with 1 Axes>"
      ]
     },
     "metadata": {},
     "output_type": "display_data"
    }
   ],
   "source": [
    "\n",
    "from plot.plotter import plot_set_points\n",
    "\n",
    "\n",
    "plot_set_points(D,color='blue')"
   ]
  },
  {
   "cell_type": "markdown",
   "metadata": {},
   "source": [
    "\n",
    "<!-- visualizations can be useful to see the size of the domain or whether individual domains intersect. -->\n",
    "可视化可以有效的检查domain的size或者独立的domain交集.\n",
    "<!-- In this example, domains are completely disjoint, which means they can be traversed by separate loop nests. -->\n",
    "这里例子中,domain完全不相交,意味他们可以被分离的循环所穿过.\n",
    "\n",
    "<!-- If the domain is parametric, you will have to first *fix* all parameter values to a constant by -->\n",
    "如果domain是参数化的,我们首先需要*fix*所有的参数到constant, 通过以下几种方法:\n",
    "\n",
    "* 创建一个参数集，其中域值是固定的;\n",
    "* 将domain与这个新set相交;\n",
    "* 映射所有参数.\n",
    "\n",
    "<!-- Here is how it can be done for `T` statement of our first example. -->\n",
    "下面是对第一个例子的`T` statement 的操作方法:"
   ]
  },
  {
   "cell_type": "code",
   "execution_count": 71,
   "metadata": {},
   "outputs": [
    {
     "data": {
      "image/png": "[encoded data removed]",
      "text/plain": [
       "<Figure size 640x480 with 1 Axes>"
      ]
     },
     "metadata": {},
     "output_type": "display_data"
    }
   ],
   "source": [
    "from plot.plotter import plot_set_points\n",
    "\n",
    "\n",
    "fixer = isl.set(\"[N] -> {T[i,j]: N = 5}\")\n",
    "D_T = D_T.intersect(fixer)\n",
    "D_T = D_T.project_out(isl.dim_type.PARAM, 0, 1)\n",
    "plot_set_points(D_T)"
   ]
  },
  {
   "cell_type": "markdown",
   "metadata": {},
   "source": [
    "\n",
    "<!-- The `isl.dim_type.param` means that you want to project out parameters, the two following numbers are the\n",
    "position of the first parameter and the number of consecutive parameters that will be projected out.\n",
    "For the sake of plotting, project out all of them. Note that if you forget to fix the parameter size, the set will become unbounded and cannot be plotted. -->\n",
    "`isl.dim_type.param`表示你想映射的参数，后面两个数据分别是第一个参数的位置和将要映射的连续参数的数量.\n",
    "\n",
    "为了plot出来，因此把所有维度都映射出来。注意，如果忘记*fix*参数大小，该集将变得unbounds，无法plot. \n",
    "\n",
    "<!-- Similarly to parameters, you can project out domain dimensions until you get at most two before plotting.\n",
    "Use `isl.dim_type.set` to get those. -->\n",
    "与参数类似，在plot之前可以投影domain dimensions获得两个维度.\n",
    "使用'isl.dim_type.set'来获取这些\n",
    "\n",
    "### Question\n",
    "<!-- In the following loop nest performing LU decomposition, -->\n",
    "下面执行LU分解的代码:\n",
    "\n",
    "```c\n",
    "for (i = 0; i < N; i++) {\n",
    "  for (j = 0; j < i; j++) {\n",
    "    for (k = 0; k < j; k++) {\n",
    "Sa:    A[i][j] -= A[i][k] * A[k][j];\n",
    "    }\n",
    "Sb: A[i][j] /= A[j][j];\n",
    "  }\n",
    "  for (j = i; j < N; j++) {\n",
    "    for (k = 0; k < i; k++) {\n",
    "Sc:   A[i][j] -= A[i][k] * A[k][j];\n",
    "    }\n",
    "  }\n",
    "}\n",
    "```\n",
    "\n",
    "<!-- 1. Define the union set with all iteration domains.\n",
    "1. Check if iteration domains of `Sa` and `Sc` overlap.\n",
    "1. Plot projections on the domain on (i,j), (j,k). -->\n",
    "1.  为所有的iteration domain定义union set.\n",
    "2.  检查iteration domain `Sa` 和 `Sc` 是否有overlap\n",
    "3.  绘制domain在(i,j)和(j,k)\n",
    "\n",
    "<!-- Hint: it is impossible to project out domain dimensions *directly* from the union set\n",
    "because it may have sets that live in different spaces.\n",
    "However, a union set may be constructed from sets, and you can take a union of union sets. -->\n",
    "Hint: 不能*直接*从union set中映射出domain dimension,因为他们可能存在不同的space中, 但是可以从set中做union得到他.\n"
   ]
  },
  {
   "cell_type": "code",
   "execution_count": 72,
   "metadata": {},
   "outputs": [
    {
     "name": "stdout",
     "output_type": "stream",
     "text": [
      "[N] -> { Sc[i, j, k] : i <= j < N and 0 <= k < i; Sa[i, j, k] : i < N and j < i and 0 <= k < j; Sb[i, j] : i < N and 0 <= j < i }\n"
     ]
    }
   ],
   "source": [
    "D_Sa = isl.set(\"[N] -> { Sa[i,j,k] :0 <= k < j < i < N }\")\n",
    "D_Sb = isl.set(\"[N] -> { Sb[i,j] :0 <= j < i < N }\")\n",
    "D_Sc = isl.set(\"[N] -> { Sc[i,j,k] :0 <= k < i <= j < N }\")\n",
    "D = isl.union_set(D_Sa).union(D_Sb).union(D_Sc)\n",
    "print(D)"
   ]
  },
  {
   "cell_type": "code",
   "execution_count": 73,
   "metadata": {},
   "outputs": [
    {
     "data": {
      "text/plain": [
       "True"
      ]
     },
     "execution_count": 73,
     "metadata": {},
     "output_type": "execute_result"
    }
   ],
   "source": [
    "# NOTE 这里需要去掉标识名再做交集.\n",
    "D_Sa_ = isl.set(\"[N] -> { [i,j,k] :0 <= k < j < i < N }\")\n",
    "D_Sc_ = isl.set(\"[N] -> { [i,j,k] :0 <= k < i <= j < N }\")\n",
    "D_Sa_.intersect(D_Sc_).is_empty()"
   ]
  },
  {
   "cell_type": "code",
   "execution_count": 74,
   "metadata": {},
   "outputs": [],
   "source": [
    "D_Sa = D_Sa.intersect(isl.set(\"[N] -> { Sa[i,j,k]: N = 8}\"))\n",
    "D_Sb = D_Sb.intersect(isl.set(\"[N] -> { Sb[i,j]: N = 8}\"))\n",
    "D_Sc = D_Sc.intersect(isl.set(\"[N] -> { Sc[i,j,k]: N = 8}\"))\n",
    "D_Sa = D_Sa.project_out(isl.dim_type.PARAM, 0, 1)\n",
    "D_Sb = D_Sb.project_out(isl.dim_type.PARAM, 0, 1)\n",
    "D_Sc = D_Sc.project_out(isl.dim_type.PARAM, 0, 1)"
   ]
  },
  {
   "cell_type": "code",
   "execution_count": 75,
   "metadata": {},
   "outputs": [
    {
     "name": "stdout",
     "output_type": "stream",
     "text": [
      "{ [i, j] : (i <= 7 and 0 < j < i) or (i > 0 and i <= j <= 7); Sb[i, j] : i <= 7 and 0 <= j < i }\n"
     ]
    },
    {
     "data": {
      "image/png": "[encoded data removed]",
      "text/plain": [
       "<Figure size 640x480 with 1 Axes>"
      ]
     },
     "metadata": {},
     "output_type": "display_data"
    }
   ],
   "source": [
    "D_Sa_ = D_Sa.project_out(isl.dim_type.SET, 2, 1)\n",
    "D_Sc_ = D_Sc.project_out(isl.dim_type.SET, 2, 1)\n",
    "D_ij = isl.union_set(D_Sa_).union(D_Sb).union(D_Sc_)\n",
    "print(D_ij)\n",
    "plot_set_points(D_ij)"
   ]
  },
  {
   "cell_type": "code",
   "execution_count": 76,
   "metadata": {},
   "outputs": [
    {
     "name": "stdout",
     "output_type": "stream",
     "text": [
      "{ [j, k] : j <= 7 and 0 <= k < j }\n"
     ]
    },
    {
     "data": {
      "image/png": "[encoded data removed]",
      "text/plain": [
       "<Figure size 640x480 with 1 Axes>"
      ]
     },
     "metadata": {},
     "output_type": "display_data"
    }
   ],
   "source": [
    "D_Sa_ = D_Sa.project_out(isl.dim_type.SET, 0, 1)\n",
    "D_Sc_ = D_Sc.project_out(isl.dim_type.SET, 0, 1)\n",
    "D_jk = isl.union_set(D_Sa_).union(D_Sc_)\n",
    "print(D_jk)\n",
    "plot_set_points(D_jk)"
   ]
  },
  {
   "cell_type": "markdown",
   "metadata": {},
   "source": [
    "\n"
   ]
  }
 ],
 "metadata": {
  "kernelspec": {
   "display_name": "ci",
   "language": "python",
   "name": "python3"
  },
  "language_info": {
   "codemirror_mode": {
    "name": "ipython",
    "version": 3
   },
   "file_extension": ".py",
   "mimetype": "text/x-python",
   "name": "python",
   "nbconvert_exporter": "python",
   "pygments_lexer": "ipython3",
   "version": "3.10.17"
  },
  "orig_nbformat": 4
 },
 "nbformat": 4,
 "nbformat_minor": 2
}
