{
 "cells": [
  {
   "cell_type": "markdown",
   "metadata": {},
   "source": [
    "# Classical Loop Transformations"
   ]
  },
  {
   "cell_type": "markdown",
   "metadata": {},
   "source": [
    "### Setup AST generation infrastructure"
   ]
  },
  {
   "cell_type": "code",
   "execution_count": 1,
   "metadata": {},
   "outputs": [],
   "source": [
    "import isl\n",
    "\n",
    "\n",
    "class CSource():\n",
    "  def __init__(self, ast):\n",
    "    self.source = ast\n",
    "\n",
    "  def _repr_html_(self):\n",
    "    return \"<pre class='code'><code class=\\\"cpp hljs\\\">\" + self.source.to_C_str() + \"</code></pre>\"\n",
    "\n",
    "\n",
    "class CSourceComparer():\n",
    "  def __init__(self, before: CSource, after: CSource):\n",
    "    self.before = before\n",
    "    self.after = after\n",
    "\n",
    "  def _repr_html_(self):\n",
    "    s = \"<b>Before Transform:</b>\\n\"\n",
    "    s += self.before._repr_html_()\n",
    "    s += \"<b>After Transform:</b>\\n\"\n",
    "    s += self.after._repr_html_()\n",
    "    return s\n",
    "\n",
    "\n",
    "def print_before_after(domain, schedule_original, schedule_new):\n",
    "  context = isl.set(\"{ : }\")\n",
    "  build = isl.ast_build.from_context(context)\n",
    "  schedule_original = schedule_original.intersect_domain(domain)\n",
    "  schedule_new = schedule_new.intersect_domain(domain)\n",
    "  return CSourceComparer(CSource(build.node_from_schedule_map(schedule_original)),\n",
    "                         CSource(build.node_from_schedule_map(schedule_new)))\n",
    "  # print(\"<b>Before Transform:</b>\")\n",
    "  # ast = build.node_from_schedule_map(schedule_original)\n",
    "  # print_code(ast)\n",
    "  # print(\"<b>After Transform:</b>\")\n",
    "  # ast = build.node_from_schedule_map(schedule_new)\n",
    "  # print_code(ast)\n"
   ]
  },
  {
   "cell_type": "markdown",
   "metadata": {},
   "source": [
    "## Loop Reversal\n",
    "\n",
    "<!-- Loop reversal changes the direction in which elements of a loop are visited. After loop reversal, the previous first loop iteration is executed last and the previous last loop iteration is executed first. -->\n",
    "\n",
    "循环反转可以改变循环元素被访问的方向, 反转之后, 之前迭代的第一个元素将会被最后执行, 最后一个元素将会被第一个执行.\n",
    "\n",
    "**Benefits**:\n",
    "<!-- - Can be used to shorten dependences -->\n",
    "- 可以被用来缩短依赖\n"
   ]
  },
  {
   "cell_type": "code",
   "execution_count": 2,
   "metadata": {},
   "outputs": [
    {
     "data": {
      "text/html": [
       "<b>Before Transform:</b>\n",
       "<pre class='code'><code class=\"cpp hljs\">for (int c0 = 0; c0 < n; c0 += 1)\n",
       "  S(c0);\n",
       "</code></pre><b>After Transform:</b>\n",
       "<pre class='code'><code class=\"cpp hljs\">for (int c0 = -n + 1; c0 <= 0; c0 += 1)\n",
       "  S(-c0);\n",
       "</code></pre>"
      ],
      "text/plain": [
       "<__main__.CSourceComparer at 0x105e6eaa0>"
      ]
     },
     "execution_count": 2,
     "metadata": {},
     "output_type": "execute_result"
    }
   ],
   "source": [
    "domain = isl.union_set(\"[n] -> {S[i] : 0 <= i < n}\") # 原始迭代域\n",
    "original = isl.union_map(\"{S[i] -> [i]}\") # 原始schedule\n",
    "transformation = isl.union_map(\"{[i] -> [-i]}\")\n",
    "\n",
    "transformed = original.apply_range(transformation) # 实施transform.\n",
    "print_before_after(domain, original, transformed) # i \\in [0,n-1] => [-n+1,0]"
   ]
  },
  {
   "cell_type": "markdown",
   "metadata": {},
   "source": [
    "# Loop Fusion\n",
    "\n",
    "<!-- After Loop fusion two statements that have previously been enumerated by different loops are\n",
    "now enumerated by a single loop. -->\n",
    "\n",
    "之前分离在两个不同循环的中的statement将会被放到同一个循环中.\n",
    "\n",
    "**Benefits:**\n",
    "  <!-- - Improves data-locality -->\n",
    "  - 提高数据局部性\n"
   ]
  },
  {
   "cell_type": "code",
   "execution_count": 3,
   "metadata": {},
   "outputs": [
    {
     "data": {
      "text/html": [
       "<b>Before Transform:</b>\n",
       "<pre class='code'><code class=\"cpp hljs\">{\n",
       "  for (int c1 = 0; c1 <= n; c1 += 1)\n",
       "    S(c1);\n",
       "  for (int c1 = 0; c1 <= n; c1 += 1)\n",
       "    T(c1);\n",
       "}\n",
       "</code></pre><b>After Transform:</b>\n",
       "<pre class='code'><code class=\"cpp hljs\">for (int c0 = 0; c0 <= n; c0 += 1) {\n",
       "  S(c0);\n",
       "  T(c0);\n",
       "}\n",
       "</code></pre>"
      ],
      "text/plain": [
       "<__main__.CSourceComparer at 0x105e6ff70>"
      ]
     },
     "execution_count": 3,
     "metadata": {},
     "output_type": "execute_result"
    }
   ],
   "source": [
    "domain = isl.union_set(\"[n] -> {S[i] : 0 <= i <= n; T[i] : 0 <= i <= n}\") # 原始两个循环, S和T\n",
    "original = isl.union_map(\"{S[i] -> [0, i]; T[i] -> [1, i]}\") # 原始schedule, 是在循环外部安排顺序\n",
    "transformation = isl.union_map(\"{[0, i] -> [i,0]; [1, i] -> [i, 1]}\") # 将顺序安排在同一个循环内部.\n",
    "transformed = original.apply_range(transformation) # NOTE 现实中要考虑是否存在数据依赖问题.\n",
    "print_before_after(domain, original, transformed)"
   ]
  },
  {
   "cell_type": "markdown",
   "metadata": {},
   "source": [
    "# Loop Fission (Loop Distribution)\n",
    "\n",
    "<!-- Loop fission takes two statements that have been originally executed in the same\n",
    "loop and distributes them to two separate loops. -->\n",
    "Loop fission 是指将在同一个循环中执行的statement分配到两个不同的循环中去.\n",
    "\n",
    "**Benefits:**\n",
    " <!-- - Reduces register pressure -->\n",
    " <!-- - Enables other transformations, i.e. SIMDization in case only one of\n",
    "   the two statements in a loop body allows for parallel execution. -->\n",
    "  - 减少寄存器压力(在同一个循环中就意味着使用更多的寄存器存储数组地址/索引等)\n",
    "  - 可以开启其他的优化, 比如一个循环中只有一个statement可以进行`SIMDization`,此时可以将其分离出去单独进行并行化."
   ]
  },
  {
   "cell_type": "code",
   "execution_count": 4,
   "metadata": {},
   "outputs": [
    {
     "data": {
      "text/html": [
       "<b>Before Transform:</b>\n",
       "<pre class='code'><code class=\"cpp hljs\">for (int c0 = 0; c0 <= n; c0 += 1) {\n",
       "  S(c0);\n",
       "  T(c0);\n",
       "}\n",
       "</code></pre><b>After Transform:</b>\n",
       "<pre class='code'><code class=\"cpp hljs\">{\n",
       "  for (int c1 = 0; c1 <= n; c1 += 1)\n",
       "    S(c1);\n",
       "  for (int c1 = 0; c1 <= n; c1 += 1)\n",
       "    T(c1);\n",
       "}\n",
       "</code></pre>"
      ],
      "text/plain": [
       "<__main__.CSourceComparer at 0x105e6cc70>"
      ]
     },
     "execution_count": 4,
     "metadata": {},
     "output_type": "execute_result"
    }
   ],
   "source": [
    "domain = isl.union_set(\"[n] -> {S[i] : 0 <= i <= n; T[i] : 0 <= i <= n}\")\n",
    "original = isl.union_map(\"{S[i] -> [i, 0]; T[i] -> [i, 1]}\")\n",
    "transformation = isl.union_map(\"{[i, 0] -> [0, i]; [i, 1] -> [1, i]}\")\n",
    "\n",
    "transformed = original.apply_range(transformation)\n",
    "print_before_after(domain, original, transformed)"
   ]
  },
  {
   "cell_type": "markdown",
   "metadata": {},
   "source": [
    "# Loop Interchange\n",
    "\n",
    "循环顺序交换"
   ]
  },
  {
   "cell_type": "code",
   "execution_count": 5,
   "metadata": {},
   "outputs": [
    {
     "data": {
      "text/html": [
       "<b>Before Transform:</b>\n",
       "<pre class='code'><code class=\"cpp hljs\">for (int c0 = 0; c0 <= n; c0 += 1)\n",
       "  for (int c1 = 0; c1 <= m; c1 += 1)\n",
       "    S(c0, c1);\n",
       "</code></pre><b>After Transform:</b>\n",
       "<pre class='code'><code class=\"cpp hljs\">for (int c0 = 0; c0 <= m; c0 += 1)\n",
       "  for (int c1 = 0; c1 <= n; c1 += 1)\n",
       "    S(c1, c0);\n",
       "</code></pre>"
      ],
      "text/plain": [
       "<__main__.CSourceComparer at 0x105e6d930>"
      ]
     },
     "execution_count": 5,
     "metadata": {},
     "output_type": "execute_result"
    }
   ],
   "source": [
    "domain = isl.union_set(\"[n,m] -> {S[i,j] : 0 <= i <= n and 0 <= j <= m }\")\n",
    "original = isl.union_map(\"{S[i,j] -> [i, j]}\")\n",
    "transformation = isl.union_map(\"{[i, j] -> [j, i]}\")\n",
    "\n",
    "transformed = original.apply_range(transformation)\n",
    "print_before_after(domain, original, transformed)"
   ]
  },
  {
   "cell_type": "markdown",
   "metadata": {},
   "source": [
    "# Strip Mining\n",
    "\n",
    "<!-- Strip mining partitions a single loop into chunks that are enumerated by two loops.\n",
    "An outer loop enumerates the individual blocks, whereas the inner loop enumerates\n",
    "the individual iterations that belong to each block. -->\n",
    "Strip mining是将单个循环按chunk分离为两个循环, 外循环在每个blocks上迭代, 内循环在每个block内部进行迭代.\n",
    "\n",
    "\n",
    "**Benefits:**\n",
    " <!-- - Building block for loop tiling and unroll-and-jam. -->\n",
    " - 构建loop tiling和unroll-and-jam的block\n"
   ]
  },
  {
   "cell_type": "code",
   "execution_count": 6,
   "metadata": {},
   "outputs": [
    {
     "data": {
      "text/html": [
       "<b>Before Transform:</b>\n",
       "<pre class='code'><code class=\"cpp hljs\">for (int c0 = 0; c0 <= 1023; c0 += 1)\n",
       "  S(c0);\n",
       "</code></pre><b>After Transform:</b>\n",
       "<pre class='code'><code class=\"cpp hljs\">for (int c0 = 0; c0 <= 255; c0 += 1)\n",
       "  for (int c1 = 0; c1 <= 3; c1 += 1)\n",
       "    S(4 * c0 + c1);\n",
       "</code></pre>"
      ],
      "text/plain": [
       "<__main__.CSourceComparer at 0x10c2babf0>"
      ]
     },
     "execution_count": 6,
     "metadata": {},
     "output_type": "execute_result"
    }
   ],
   "source": [
    "domain = isl.union_set(\"{S[i] : 0 <= i < 1024 }\")\n",
    "original = isl.union_map(\"{S[i] -> [i]}\")\n",
    "transformation = isl.union_map(\"{[i] -> [floor(i/4), i % 4]}\")\n",
    "\n",
    "transformed = original.apply_range(transformation)\n",
    "print_before_after(domain, original, transformed)"
   ]
  },
  {
   "cell_type": "markdown",
   "metadata": {},
   "source": [
    "# Loop Tiling\n",
    "\n",
    "<!-- Loop tiling partitions the execution of a multi-dimensional loop into groups, the tiles.\n",
    "First a set of outer loops enumerate all tiles that must be executed and for each tile\n",
    "a set of inner loops, the point loops, enumerates the individual points of the tile. -->\n",
    "loop tiling是将多维循环切分为group,即tile. 首先一组外部循环在外部循环在所有的tile上迭代, point loops则在每个tile的points上迭代.\n",
    "\n",
    "**Benefits:**\n",
    " <!-- - Increased data-locality\n",
    " - More coarse-grained parallelism -->\n",
    " - 增加数据局部性\n",
    " - 更加粗粒度的并行"
   ]
  },
  {
   "cell_type": "code",
   "execution_count": 7,
   "metadata": {},
   "outputs": [
    {
     "data": {
      "text/html": [
       "<b>Before Transform:</b>\n",
       "<pre class='code'><code class=\"cpp hljs\">for (int c0 = 0; c0 <= 1023; c0 += 1)\n",
       "  for (int c1 = 0; c1 <= 1023; c1 += 1)\n",
       "    S(c0, c1);\n",
       "</code></pre><b>After Transform:</b>\n",
       "<pre class='code'><code class=\"cpp hljs\">for (int c0 = 0; c0 <= 255; c0 += 1)\n",
       "  for (int c1 = 0; c1 <= 3; c1 += 1)\n",
       "    for (int c2 = 0; c2 <= 255; c2 += 1)\n",
       "      for (int c3 = 0; c3 <= 3; c3 += 1)\n",
       "        S(4 * c0 + c1, 4 * c2 + c3);\n",
       "</code></pre>"
      ],
      "text/plain": [
       "<__main__.CSourceComparer at 0x10c2baf80>"
      ]
     },
     "execution_count": 7,
     "metadata": {},
     "output_type": "execute_result"
    }
   ],
   "source": [
    "domain = isl.union_set(\"{S[i,j] : 0 <= i,j < 1024 }\")\n",
    "original = isl.union_map(\"{S[i,j] -> [i,j]}\")\n",
    "transformation = isl.union_map(\"{[i,j] -> [floor(i/4), i % 4, floor(j/4), j % 4]}\") # 和strip mining类似.\n",
    "\n",
    "transformed = original.apply_range(transformation)\n",
    "print_before_after(domain, original, transformed)"
   ]
  },
  {
   "cell_type": "markdown",
   "metadata": {},
   "source": [
    "# Unroll-and-jam\n",
    "\n",
    "<!-- Unroll-and-jam is a combination of strip-mining of the outer loop into a\n",
    "tile and point loop and then an interchange of the new point loop with\n",
    "the innermost loop dimension. -->\n",
    "Unroll-and-jam是将外部循环进行strip-mining分离为tile和point 循环,然后交换point loop和最内层的循环.\n",
    "\n",
    "**Benefits:**\n",
    " <!-- - Enables outer loop vectorization -->\n",
    " - 使得外部循环向量化.\n"
   ]
  },
  {
   "cell_type": "code",
   "execution_count": 8,
   "metadata": {},
   "outputs": [
    {
     "data": {
      "text/html": [
       "<b>Before Transform:</b>\n",
       "<pre class='code'><code class=\"cpp hljs\">for (int c0 = 0; c0 <= 1023; c0 += 1)\n",
       "  for (int c1 = 0; c1 <= 1023; c1 += 1)\n",
       "    S(c0, c1);\n",
       "</code></pre><b>After Transform:</b>\n",
       "<pre class='code'><code class=\"cpp hljs\">for (int c0 = 0; c0 <= 255; c0 += 1)\n",
       "  for (int c1 = 0; c1 <= 1023; c1 += 1)\n",
       "    for (int c2 = 0; c2 <= 3; c2 += 1)\n",
       "      S(4 * c0 + c2, c1);\n",
       "</code></pre>"
      ],
      "text/plain": [
       "<__main__.CSourceComparer at 0x10c2bb100>"
      ]
     },
     "execution_count": 8,
     "metadata": {},
     "output_type": "execute_result"
    }
   ],
   "source": [
    "domain = isl.union_set(\"{S[i,j] : 0 <= i,j < 1024 }\")\n",
    "original = isl.union_map(\"{S[i,j] -> [i,j]}\")\n",
    "transformation = isl.union_map(\"{[i,j] -> [floor(i/4), j, i % 4] }\")\n",
    "\n",
    "transformed = original.apply_range(transformation)\n",
    "print_before_after(domain, original, transformed)"
   ]
  },
  {
   "cell_type": "markdown",
   "metadata": {},
   "source": [
    "# Skewing\n",
    "\n",
    "倾斜迭代域\n",
    "\n",
    "**Benefits:**\n",
    " - 使得部分无依赖的statement得以并行化.\n"
   ]
  },
  {
   "cell_type": "code",
   "execution_count": 9,
   "metadata": {},
   "outputs": [
    {
     "data": {
      "text/html": [
       "<b>Before Transform:</b>\n",
       "<pre class='code'><code class=\"cpp hljs\">for (int c0 = 0; c0 < n; c0 += 1)\n",
       "  for (int c1 = 0; c1 < n; c1 += 1)\n",
       "    S(c0, c1);\n",
       "</code></pre><b>After Transform:</b>\n",
       "<pre class='code'><code class=\"cpp hljs\">for (int c0 = 0; c0 < n; c0 += 1)\n",
       "  for (int c1 = c0; c1 < n + c0; c1 += 1)\n",
       "    S(c0, -c0 + c1);\n",
       "</code></pre>"
      ],
      "text/plain": [
       "<__main__.CSourceComparer at 0x10c2bb370>"
      ]
     },
     "execution_count": 9,
     "metadata": {},
     "output_type": "execute_result"
    }
   ],
   "source": [
    "domain = isl.union_set(\"[n] -> {S[i,j] : 0 <= i,j < n }\")\n",
    "original = isl.union_map(\"{S[i,j] -> [i,j]}\")\n",
    "transformation = isl.union_map(\"{[i,j] -> [i, i + j]}\")\n",
    "\n",
    "transformed = original.apply_range(transformation)\n",
    "print_before_after(domain, original, transformed)"
   ]
  }
 ],
 "metadata": {
  "kernelspec": {
   "display_name": "ci",
   "language": "python",
   "name": "python3"
  },
  "language_info": {
   "codemirror_mode": {
    "name": "ipython",
    "version": 3
   },
   "file_extension": ".py",
   "mimetype": "text/x-python",
   "name": "python",
   "nbconvert_exporter": "python",
   "pygments_lexer": "ipython3",
   "version": "3.10.17"
  },
  "orig_nbformat": 4
 },
 "nbformat": 4,
 "nbformat_minor": 2
}
