{
 "cells": [
  {
   "cell_type": "markdown",
   "metadata": {},
   "source": [
    "# Schedules\n",
    "\n",
    "$ \\{ (i,j,k) \\to (i+j, k, i) \\}$\n",
    "\n"
   ]
  },
  {
   "cell_type": "markdown",
   "metadata": {},
   "source": [
    "## Definition\n",
    "<!-- The iteration domain of statements gives information about the *instances* to be executed but does not specify in which order. -->\n",
    "statement的iteration domain给出了*instances*的执行信息,但是并没有指定执行顺序.\n",
    "<!-- In fact, we can specify any piece-wise quasi-linear order by assigning logical execution dates to each statement instance. -->\n",
    "实际上, 我们可以通过为每个statement instance分配逻辑执行顺序来指定分段 quasi-linear 的顺序。\n",
    "<!-- Concisely, this *schedule* can be expressed as a Presburger map between statement instances and logical dates. -->\n",
    "简而言之，此*schedule*可以表示为statement instance和逻辑顺序之间的Presburger映射。\n",
    "\n",
    "\n",
    "## Identity Schedule\n",
    "<!-- By default, statement instances are executed following the loop iteration order.\n",
    "This can be expressed using an *identity* schedule relation. -->\n",
    "默认情况下，statement instances按照循环迭代顺序执行。\n",
    "这可以使用*identity* schedule relation来表示。\n",
    "\n",
    "<!-- For example, the simple initialization loop -->\n",
    "比如一个简单的循环初始化:\n",
    "```c\n",
    "for (i = 0; i < N; ++i)\n",
    "S:  A[i] = 0.0;\n",
    "```\n",
    "<!-- with iteration domain -->\n",
    "iteration domain:\n",
    "$( \\mathcal{D}\\_\\mathtt{S} = [N] \\rightarrow \\{ \\mathtt{S}(i) : 0 \\leq i < N \\} )$\n",
    "\n",
    "对应的identity schedule:\n",
    "$( \\mathcal{T}\\_\\mathtt{S} = [N] \\rightarrow \\{ \\mathtt{S}(i) \\rightarrow (t_0) : t_0 = i \\} )$.\n",
    "\n",
    "In *isl* notation:\n"
   ]
  },
  {
   "cell_type": "code",
   "execution_count": 1,
   "metadata": {},
   "outputs": [
    {
     "name": "stdout",
     "output_type": "stream",
     "text": [
      "[N] -> { S[i] -> [t0 = i] }\n"
     ]
    }
   ],
   "source": [
    "import isl\n",
    "D_S = isl.set(\"[N] -> { S[i]: 0 <= i < N }\") # 迭代域\n",
    "T_S = isl.map(\"[N] -> {S[i] -> [t0]: t0 = i}\") # schedule\n",
    "print(T_S)"
   ]
  },
  {
   "cell_type": "markdown",
   "metadata": {},
   "source": [
    "## Multidimensional Schedules\n",
    "\n",
    "<!-- If a statement instance is identified by a vector of more than one element, i.e. the statement is enclosed in multiple nested loops, it is usually mapped to a *multidimensional* logical dates. -->\n",
    "\n",
    "如果一个statement instance由多个元素的向量标识, 则表示这个statement包含在多个嵌套循环中，它通常映射到*multidimensional*逻辑顺序。\n",
    "\n",
    "<!-- In this case, the statement instances are executed following the *lexicographical order* of their logical dates. -->\n",
    "下面的例子中, statement instances以逻辑顺序的*lexicographical order*进行执行.\n",
    "<!-- For example, the date $((0,42))$ precedes the date $((100,0))$.  We denote this as $((0,42) \\prec (100,0))$. -->\n",
    "比如$((0,42))$在$((100,0))$之前, 写作$((0,42) \\prec (100,0))$.\n",
    "<!-- The lexicographical order is usually extended to compare vectors of different size. -->\n",
    "lexicographical order通常扩展到比较不同大小的向量。\n",
    "<!-- A shorter vector that is a prefix of a longer vector precedes it, for example $((0,42) \\prec (0,42,0))$. -->\n",
    "短的的向量，是和较长向量的前缀比较，例如$((0,42) \\prec (0,42,0))$.\n",
    "\n",
    "<!-- For example, zero-initialization of a two-dimensional array -->\n",
    "比如, 多维下的初始化:\n",
    "```c\n",
    "for (i = 0; i < N; ++i)\n",
    "  for (j = 0; j < N; ++j)\n",
    "S:  A[i][j] = 0.0;\n",
    "```\n",
    "<!-- has the iteration domain -->\n",
    "iteration domain:\n",
    "$( \\mathcal{D}_\\mathtt{S} = [N] \\rightarrow \\{ \\mathtt{S}(i): 0 \\leq i,j < N \\} )$\n",
    "<!-- will have the identity schedule -->\n",
    "identity schedule:\n",
    "$( \\mathcal{T}_\\mathtt{S} = [N] \\rightarrow \\{ \\mathtt{S}(i,j) \\rightarrow (t_0, t_1) : t_0 = i \\wedge t_1 = j \\} )$.\n",
    "\n",
    "In *isl* notation:"
   ]
  },
  {
   "cell_type": "code",
   "execution_count": 2,
   "metadata": {},
   "outputs": [
    {
     "name": "stdout",
     "output_type": "stream",
     "text": [
      "[N] -> { S[i, j] -> [t0 = i, t1 = j] }\n"
     ]
    }
   ],
   "source": [
    "D_S = isl.set(\"[N] -> {S[i,j]: 0 <= i,j < N}\")\n",
    "T_S = isl.map(\"[N] -> {S[i,j] -> [t0,t1]: t0 = i and t1 = j}\")\n",
    "print(T_S)"
   ]
  },
  {
   "cell_type": "markdown",
   "metadata": {},
   "source": [
    "<!-- Even if in theory the schedule can be expressed using a single dimension -->\n",
    "即使理论上schedule可以用单维度来表示:\n",
    "$( \\mathcal{T}_\\mathtt{S} = [N] \\rightarrow \\{ \\mathtt{S}(i,j) \\rightarrow (t_0) : t_0 = Ni + j \\} )$\n",
    "<!-- such expression cannot be represented as a Presburger map due to multiplication of the variables.\n",
    "However, such schedules can be constructed when the actual constant is used instead of a constant parameter. -->\n",
    "但由于存在变量的乘法，这种表达式是不能表示为Presburger映射的.\n",
    "\n",
    "不过当使用实际常量而不是常量参数时，是可以构建这样的schedule的."
   ]
  },
  {
   "cell_type": "markdown",
   "metadata": {},
   "source": [
    "### Question\n",
    "<!-- Propose an identity schedule for the initialization loop of a three-dimensional array -->\n",
    "写出三维数组循环初始化的identity schedule\n",
    "```c\n",
    "for (i = 0; i < N; ++i)\n",
    "  for (j = 0; j < N; ++j)\n",
    "    for (k = 0; k < N; ++k)\n",
    "T:    A[i][j] = 0.0;\n",
    "```"
   ]
  },
  {
   "cell_type": "code",
   "execution_count": 3,
   "metadata": {},
   "outputs": [
    {
     "data": {
      "text/plain": [
       "isl.map(\"[N] -> { A[i, j, k] -> [t0 = i, t1 = j, t2 = k] }\")"
      ]
     },
     "execution_count": 3,
     "metadata": {},
     "output_type": "execute_result"
    }
   ],
   "source": [
    "D_T = isl.set(\"[N] -> { A[i,j,k] : 0 <= i,j,k < N }\")\n",
    "T_T = isl.map(\"[N] -> { A[i,j,k] -> [t0 = i,t1 = j,t2 = k] }\")\n",
    "T_T"
   ]
  },
  {
   "cell_type": "markdown",
   "metadata": {},
   "source": [
    "### Question\n",
    "<!-- Try defining a one-dimensional schedule with multiplication for the same domain (error expected). -->\n",
    "尝试为同一域定义一个具有乘法的一维计划（会出现错误）。"
   ]
  },
  {
   "cell_type": "code",
   "execution_count": 4,
   "metadata": {},
   "outputs": [
    {
     "name": "stderr",
     "output_type": "stream",
     "text": [
      "syntax error (1, 34): expecting constant value\n",
      "got ident 'N'\n",
      "syntax error (1, 36): unexpected token\n",
      "got '*'\n"
     ]
    }
   ],
   "source": [
    "try:\n",
    "  T_T_err = isl.map(\"[N] -> {S[i,j,k] -> [t0]: t0 = N*N*i + N*j + k}\")\n",
    "except:\n",
    "  print(\"got error\")"
   ]
  },
  {
   "cell_type": "markdown",
   "metadata": {},
   "source": [
    "## Representing Lexical Order\n",
    "<!-- Consider the loop nest with two statements -->\n",
    "考虑一个循环中包含两个statement:\n",
    "```c\n",
    "for (i = 0; i < 10; ++i) {\n",
    "P:  A[i] = 0.0;\n",
    "Q:  B[i] = 1.0;\n",
    "}\n",
    "```\n",
    "<!-- Using plain identity schedule for both statement would result in them having *identical* dates. -->\n",
    "对两个statement使用简单的identity schedule将导致他们具有*相同的*执行顺序.\n",
    "<!-- Yet it is clear from the code that instances of `Q` are executed *after* the respective instances of `P`.\n",
    "This *lexical order* of the statements can be encoded in the schedule relations using an *auxiliary* dimension. -->\n",
    "然而，从代码中可以清楚地看出，`Q`的是在`P`之后执行的, statement的*lexical order*可以使用*auxiliary*维度在schedule中编码.\n",
    "<!-- It is assigned a constant so as to force instances of `P` to be executed before instances of `Q`,\n",
    "i.e. the constant for `P` is smaller than the one for `Q`. -->\n",
    "他分配一个常量，以便在`Q`之前强制执行`P`的statement, 即`P`的常数小于`Q`的常数。\n",
    "\n",
    "<!-- Because the order exists *inside* the loop, the auxiliary dimension is placed after the loop dimension. -->\n",
    "由于顺序存在于循环中*内部*，因此辅助维度放置在循环维度之后。\n",
    "$( \\mathcal{T} = \n",
    "  \\{ P(i) \\rightarrow (t\\_0, t\\_1) : t\\_0 = i \\wedge t\\_1 = 0 \\} \\cup\n",
    "  \\{ Q(i) \\rightarrow (t\\_0, t\\_1) : t\\_0 = i \\wedge t\\_1 = 1 \\} )$\n",
    "<!-- This map will assign dates $((i,0))$ to the instances of `P` and dates $((i,1))$ to the instances of `Q`. -->\n",
    "这个map会将顺序$((i,0))$分配到`P`, 然后$((i,1))$分配到`Q`.\n",
    "<!-- It is clear that $( \\forall i, (i,0) \\prec (i,1) )$. -->\n",
    "从而清晰的表示$( \\forall i, (i,0) \\prec (i,1) )$\n",
    "<!-- In *isl*, schedules for different statements can be combined into a union map. -->\n",
    "*isl*中, 不同的 statements的schedules 可以被结合为 union map."
   ]
  },
  {
   "cell_type": "code",
   "execution_count": 5,
   "metadata": {},
   "outputs": [
    {
     "name": "stdout",
     "output_type": "stream",
     "text": [
      "{ Q[i] -> [t0 = i, t1 = 1]; P[i] -> [t0 = i, t1 = 0] }\n"
     ]
    }
   ],
   "source": [
    "D = isl.union_set(\"{P[i]: 0 <= i < 10; Q[i]: 0 <= i < 10}\") # 首先列出两个statement的set\n",
    "S = isl.union_map(\"{P[i] -> [t0,t1]: t0 = i and t1 = 0; Q[i] -> [t0,t1]: t0 = i and t1 = 1}\") # 为他们分别分配额外的执行顺序, P = 0, Q = 1\n",
    "print(S)"
   ]
  },
  {
   "cell_type": "markdown",
   "metadata": {},
   "source": [
    "### \n",
    "<!-- Consider the SCoP with two loops -->\n",
    "考虑两个循环组成的`SCoP`\n",
    "```c\n",
    "for (i = 0; i < 10; ++i) {\n",
    "U:  A[i] = 0.0;\n",
    "}\n",
    "for (i = 0; i < 10; ++i) {\n",
    "V:  B[i] = 1.0;\n",
    "}\n",
    "```\n",
    "<!-- In this case, *all* instances of `U` are executed before *any* instance of `V`. -->\n",
    "这个例子中,*所有的*`U`的实例都在*所有的*`V`的实例之前执行,\n",
    "<!-- Therefore, the auxiliary dimension is introduced *before* the loop dimension. -->\n",
    "因此辅助维度会在循环维度之前加入:\n",
    "\n",
    "$( \\mathcal{T} =\n",
    "  \\{ \\mathtt{U}(i) \\rightarrow (t_0, t_1) : t_0 = 0 \\wedge t_1 = i \\} \\cup\n",
    "  \\{ \\mathtt{V}(i) \\rightarrow (t_0, t_1) : t_0 = 1 \\wedge t_1 = i \\}.\n",
    ")$\n",
    "\n",
    "Or, in *isl* notation:\n"
   ]
  },
  {
   "cell_type": "code",
   "execution_count": 6,
   "metadata": {},
   "outputs": [
    {
     "name": "stdout",
     "output_type": "stream",
     "text": [
      "{ U[i] -> [t0 = 0, t1 = i]; V[i] -> [t0 = 1, t1 = i] }\n"
     ]
    }
   ],
   "source": [
    "D2 = isl.union_set(\"{U[i]: 0 <= i < 10; V[i]: 0 <= i < 10}\") # 两个statement分别的set\n",
    "S2 = isl.union_map(\"{U[i] -> [t0,t1]: t0 = 0 and t1 = i; V[i] -> [t0,t1]: t0 = 1 and t1 = i}\") # 这里把t1作为loop 维度, t0作为辅助维度, 也就是表示两个statement执行循环顺序相同,但是执行整个循环的顺序不同.\n",
    "print(S2)"
   ]
  },
  {
   "cell_type": "markdown",
   "metadata": {},
   "source": [
    "<!-- ###  -->\n",
    "<!-- Plotting the *scheduled domain* can help to see the difference. -->\n",
    "绘制两个*scheduled domain*可以发现不同:\n"
   ]
  },
  {
   "cell_type": "code",
   "execution_count": 7,
   "metadata": {},
   "outputs": [
    {
     "name": "stdout",
     "output_type": "stream",
     "text": [
      "{ [t0, t1 = 1] : 0 <= t0 <= 9; [t0, t1 = 0] : 0 <= t0 <= 9 }\n"
     ]
    },
    {
     "data": {
      "image/png": "[encoded data removed]",
      "text/plain": [
       "<Figure size 640x480 with 1 Axes>"
      ]
     },
     "metadata": {},
     "output_type": "display_data"
    }
   ],
   "source": [
    "from plot.plotter import plot_set_points\n",
    "\n",
    "\n",
    "plot_set_points(D.apply(S))\n",
    "print(D.apply(S)) # t0表示是外部循环的顺序, t1 表示的内部statement的执行顺序, 此时外部循环0~9, 内部执行顺序0~1"
   ]
  },
  {
   "cell_type": "code",
   "execution_count": 8,
   "metadata": {},
   "outputs": [
    {
     "name": "stdout",
     "output_type": "stream",
     "text": [
      "{ [t0 = 1, t1] : 0 <= t1 <= 9; [t0 = 0, t1] : 0 <= t1 <= 9 }\n"
     ]
    },
    {
     "data": {
      "image/png": "[encoded data removed]",
      "text/plain": [
       "<Figure size 640x480 with 1 Axes>"
      ]
     },
     "metadata": {},
     "output_type": "display_data"
    }
   ],
   "source": [
    "plot_set_points(D2.apply(S2))\n",
    "print(D2.apply(S2)) # t0表示是循环外部的顺序, t1表示循环内statement的执行顺序, 此时循环外部有先后顺序, 循环内顺序 0~9"
   ]
  },
  {
   "cell_type": "markdown",
   "metadata": {},
   "source": [
    "\n",
    "<!-- Note that the logical dates live in the *same* space for all statements, therefore one cannot tell them apart visually. -->\n",
    "注意, 因为上面将logical dates和所有statement的实例绘制在同一个space中,所以比较难辨认.\n",
    "\n",
    "\n",
    "### Question\n",
    "<!-- Generally, an auxiliary dimension is included *after* the last loop the statements share. -->\n",
    "通常,如果auxiliary dimension被statement共享, 那么定义在循环的最内部, \n",
    "<!-- If they do not share any loop, it comes foremost. -->\n",
    "如果没有被任何loop共享, 那么放到最前面.\n",
    "<!-- Define the identity schedule with auxiliary dimensions for the SCoP. -->\n",
    "为下面的schedule定义auxiliary dimension:\n",
    "```c\n",
    "for (i = 0; i < 10; ++i) {\n",
    "  for (j = 0; j < 5; ++j)\n",
    "S1: A[i][j] = 0.;\n",
    "  for (j = 0; j < 5; ++j)\n",
    "S2: B[i][j] = 0.;\n",
    "}\n",
    "```"
   ]
  },
  {
   "cell_type": "code",
   "execution_count": 9,
   "metadata": {},
   "outputs": [
    {
     "name": "stdout",
     "output_type": "stream",
     "text": [
      "{ S1[i, j] -> [t0 = i, t1 = 0, t2 = j]; S2[i, j] -> [t0 = i, t1 = 1, t2 = j] }\n"
     ]
    }
   ],
   "source": [
    "D = isl.union_set(\"{ S1[i,j] : 0 <= i < 10 and 0 <= j < 5 ; S2[i,j] : 0 <= i < 10 and 0 <= j < 5 }\")\n",
    "S = isl.union_map(\"{ S1[i,j] -> [t0 = i,t1 = 0,t2 = j]; S2[i,j] -> [t0 = i,t1 = 1,t2 = j]; }\")\n",
    "print(S) # t0 作为共享循环i, t1 控制循环j外部的顺序, t2 分别为每个循环j的顺序."
   ]
  }
 ],
 "metadata": {
  "kernelspec": {
   "display_name": "ci",
   "language": "python",
   "name": "python3"
  },
  "language_info": {
   "codemirror_mode": {
    "name": "ipython",
    "version": 3
   },
   "file_extension": ".py",
   "mimetype": "text/x-python",
   "name": "python",
   "nbconvert_exporter": "python",
   "pygments_lexer": "ipython3",
   "version": "3.10.17"
  },
  "orig_nbformat": 4
 },
 "nbformat": 4,
 "nbformat_minor": 2
}
